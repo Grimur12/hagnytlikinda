{
 "cells": [
  {
   "cell_type": "code",
   "execution_count": null,
   "id": "113eb21b",
   "metadata": {},
   "outputs": [],
   "source": [
    "import numpy as np\n",
    "# Get P4 weather\n",
    "P = np.array([[0.4, 0.6, 0.0],\n",
    "              [0.2, 0.5, 0.3],\n",
    "              [0.1, 0.7, 0.2]])\n",
    "\n",
    "np.linalg.matrix_power(P,4)"
   ]
  }
 ],
 "metadata": {
  "language_info": {
   "name": "python"
  }
 },
 "nbformat": 4,
 "nbformat_minor": 5
}
