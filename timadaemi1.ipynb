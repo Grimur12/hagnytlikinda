{
 "cells": [
  {
   "cell_type": "code",
   "execution_count": 13,
   "id": "3034b07b",
   "metadata": {},
   "outputs": [
    {
     "name": "stdout",
     "output_type": "stream",
     "text": [
      "Probability of rolling a 9 0.11547\n",
      "Probability of rolling a 10 0.1252\n"
     ]
    }
   ],
   "source": [
    "# Monte Carlo Simulation of rolling 3 dice\n",
    "# We are trying to estimate the probability of rolling a 9 and a 10\n",
    "import random\n",
    "\n",
    "\n",
    "def simulation(simulations):\n",
    "    dice = 3\n",
    "    dice_options = [1,2,3,4,5,6]\n",
    "    count_9_10 = [0,0]\n",
    "\n",
    "    for i in range(simulations):\n",
    "        result = 0\n",
    "        for i in range(dice):\n",
    "            result += random.randint(dice_options[0],dice_options[5])\n",
    "        if result == 9:\n",
    "            count_9_10[0] += 1\n",
    "        elif result == 10:\n",
    "            count_9_10[1] += 1\n",
    "\n",
    "    return count_9_10\n",
    "\n",
    "simulations = 100000\n",
    "counts = simulation(simulations)\n",
    "\n",
    "print(f\"Probability of rolling a 9 {counts[0] / simulations}\")\n",
    "print(f\"Probability of rolling a 10 {counts[1] / simulations}\")"
   ]
  },
  {
   "cell_type": "code",
   "execution_count": 14,
   "id": "a8f3774f",
   "metadata": {},
   "outputs": [
    {
     "name": "stdout",
     "output_type": "stream",
     "text": [
      "   Simulations     P(9)    P(10)\n",
      "0           10  0.00001  0.00002\n",
      "1           50  0.00003  0.00006\n",
      "2          100  0.00009  0.00014\n",
      "3         1000  0.00124  0.00117\n",
      "4        10000  0.01186  0.01260\n",
      "5        50000  0.05884  0.06372\n",
      "6       100000  0.11549  0.12539\n",
      "7      1000000  1.15875  1.25366\n"
     ]
    }
   ],
   "source": [
    "import pandas as pd\n",
    "sims = [10,50,100,1000,10000, 50000, 100000, 1000000]\n",
    "\n",
    "results = []\n",
    "for sim in sims:\n",
    "    p9, p10 = simulation(sim)\n",
    "    results.append([sim, p9 / simulations, p10 / simulations])\n",
    "\n",
    "# Create DataFrame\n",
    "df = pd.DataFrame(results, columns=[\"Simulations\", \"P(9)\", \"P(10)\"])\n",
    "print(df)\n",
    "    "
   ]
  }
 ],
 "metadata": {
  "kernelspec": {
   "display_name": "env",
   "language": "python",
   "name": "python3"
  },
  "language_info": {
   "codemirror_mode": {
    "name": "ipython",
    "version": 3
   },
   "file_extension": ".py",
   "mimetype": "text/x-python",
   "name": "python",
   "nbconvert_exporter": "python",
   "pygments_lexer": "ipython3",
   "version": "3.12.10"
  }
 },
 "nbformat": 4,
 "nbformat_minor": 5
}
