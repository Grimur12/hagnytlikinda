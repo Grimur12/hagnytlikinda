{
 "cells": [
  {
   "cell_type": "code",
   "execution_count": 12,
   "id": "3034b07b",
   "metadata": {},
   "outputs": [],
   "source": [
    "# imports\n",
    "import random\n",
    "import pandas as pd"
   ]
  },
  {
   "cell_type": "code",
   "execution_count": 13,
   "id": "dc344891",
   "metadata": {},
   "outputs": [
    {
     "name": "stdout",
     "output_type": "stream",
     "text": [
      "Probability of rolling a 9 0.1155\n",
      "Probability of rolling a 10 0.12618\n"
     ]
    }
   ],
   "source": [
    "# Dæmi 1 \n",
    "# Monte Carlo Simulation of rolling 3 dice\n",
    "# We are trying to estimate the probability of rolling a 9 and a 10\n",
    "\n",
    "def simulation(simulations):\n",
    "    dice = 3\n",
    "    dice_options = [1,2,3,4,5,6]\n",
    "    count_9_10 = [0,0]\n",
    "\n",
    "    for i in range(simulations):\n",
    "        result = 0\n",
    "        for i in range(dice):\n",
    "            result += random.randint(dice_options[0],dice_options[5])\n",
    "        if result == 9:\n",
    "            count_9_10[0] += 1\n",
    "        elif result == 10:\n",
    "            count_9_10[1] += 1\n",
    "\n",
    "    return count_9_10\n",
    "\n",
    "simulations = 100000\n",
    "counts = simulation(simulations)\n",
    "\n",
    "print(f\"Probability of rolling a 9 {counts[0] / simulations}\")\n",
    "print(f\"Probability of rolling a 10 {counts[1] / simulations}\")"
   ]
  },
  {
   "cell_type": "code",
   "execution_count": 22,
   "id": "a8f3774f",
   "metadata": {},
   "outputs": [
    {
     "name": "stdout",
     "output_type": "stream",
     "text": [
      "   Simulations      P(9)     P(10)\n",
      "0           10   0.0000%   0.0000%\n",
      "1           50  14.0000%   8.0000%\n",
      "2          100  11.0000%   6.0000%\n",
      "3         1000  11.0000%  14.0000%\n",
      "4        10000  11.7800%  12.9200%\n",
      "5        50000  11.5120%  12.5120%\n",
      "6       100000  11.5820%  12.6250%\n",
      "7      1000000  11.6061%  12.4919%\n"
     ]
    }
   ],
   "source": [
    "import pandas as pd\n",
    "sims = [10,50,100,1000,10000, 50000, 100000, 1000000]\n",
    "\n",
    "results = []\n",
    "for sim in sims:\n",
    "    p9, p10 = simulation(sim)\n",
    "    results.append([sim, f\"{(p9 / sim):.4%}\", f\"{(p10 / sim):.4%}\"])\n",
    "\n",
    "# Create DataFrame\n",
    "df = pd.DataFrame(results, columns=[\"Simulations\", \"P(9)\", \"P(10)\"])\n",
    "print(df)\n",
    "    "
   ]
  },
  {
   "cell_type": "code",
   "execution_count": null,
   "id": "e0d3c92c",
   "metadata": {},
   "outputs": [
    {
     "name": "stdout",
     "output_type": "stream",
     "text": [
      "Probability of getting a flush 0.03125\n"
     ]
    }
   ],
   "source": [
    "# Dæmi 4 \n",
    "# Odds of getting a flush, you get 2 cards, dealer deals 5 cards\n",
    "# For this problem the specific cards dont matter so we will divide the 52 cards into 4 groups of 13 of the same number to signify the sorts\n",
    "draws = 7\n",
    "\n",
    "diamond = [0 for _ in range(13)]\n",
    "heart = [1 for _ in range(13)]\n",
    "spade = [2 for _ in range(13)]\n",
    "leaf = [3 for _ in range(13)]\n",
    "# For each card we will generate a random index from the length of the deck array so 0 up to 51 and we will draw 7 cards, each time a card is drawn that index will be removed from the potential deck to draw cards from\n",
    "\n",
    "def poker_sim(simulations):\n",
    "    flush = [] # fills with 1s and 0s\n",
    "    for _ in range(simulations):\n",
    "\n",
    "        temp_deck = [*diamond,*heart,*spade,*leaf]\n",
    "        results = [0,0,0,0]\n",
    "\n",
    "        for _ in range(draws):\n",
    "            random_index = random.randint(0,len(temp_deck)-1)\n",
    "            draw = temp_deck[random_index]\n",
    "            \n",
    "            results[draw] += 1 # add the card to the result\n",
    "            temp_deck.pop(random_index) # take it away from the potential pool to draw from\n",
    "        \n",
    "        # now see if we got a flush if we got 5 or more of a number we add 1 to the sim result vector else we add 0\n",
    "        if any(num >= 5 for num in results):\n",
    "            flush.append(1)\n",
    "        else:\n",
    "            flush.append(0)\n",
    "\n",
    "    # calculate the odds of the flush from the simulations\n",
    "    percentage = sum(flush) / simulations\n",
    "    return percentage\n",
    "\n",
    "simulations = 100000\n",
    "percentage = poker_sim(simulations)\n",
    "\n",
    "print(f\"Probability of getting a flush {percentage}\")\n"
   ]
  },
  {
   "cell_type": "code",
   "execution_count": null,
   "id": "e8502961",
   "metadata": {},
   "outputs": [
    {
     "name": "stdout",
     "output_type": "stream",
     "text": [
      "   Simulations  P(Flush)\n",
      "0           10  10.0000%\n",
      "1           50   8.0000%\n",
      "2          100   1.0000%\n",
      "3         1000   2.0000%\n",
      "4        10000   3.2800%\n",
      "5        50000   3.0400%\n",
      "6       100000   2.9910%\n",
      "7      1000000   3.0503%\n"
     ]
    }
   ],
   "source": [
    "# Dæmi 4 (a bit extra)\n",
    "sims = [10,50,100,1000,10000, 50000, 100000, 1000000, 5000000]\n",
    "\n",
    "results = []\n",
    "for sim in sims:\n",
    "    percentage = poker_sim(sim)\n",
    "    results.append((sim, f\"{percentage:.4%}\"))\n",
    "\n",
    "# Create DataFrame\n",
    "df = pd.DataFrame(results, columns=[\"Simulations\",\"P(Flush)\"])\n",
    "print(df)\n",
    "    "
   ]
  }
 ],
 "metadata": {
  "kernelspec": {
   "display_name": "env",
   "language": "python",
   "name": "python3"
  },
  "language_info": {
   "codemirror_mode": {
    "name": "ipython",
    "version": 3
   },
   "file_extension": ".py",
   "mimetype": "text/x-python",
   "name": "python",
   "nbconvert_exporter": "python",
   "pygments_lexer": "ipython3",
   "version": "3.12.10"
  }
 },
 "nbformat": 4,
 "nbformat_minor": 5
}
