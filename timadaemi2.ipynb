{
 "cells": [
  {
   "cell_type": "code",
   "execution_count": 48,
   "id": "b3f98409",
   "metadata": {},
   "outputs": [],
   "source": [
    "import random\n",
    "import pandas as pd"
   ]
  },
  {
   "cell_type": "code",
   "execution_count": null,
   "id": "5b863f27",
   "metadata": {},
   "outputs": [
    {
     "name": "stdout",
     "output_type": "stream",
     "text": [
      "Joe is an only child 37.0041% of the time\n"
     ]
    }
   ],
   "source": [
    "# Dæmi 1\n",
    "# So we will simulate the families and then count how many times joe is a single child out of the possible times where he has no brothers\n",
    "\n",
    "def joe(simulations):\n",
    "    only_joe = 0\n",
    "    joe_only_sisters = 0\n",
    "    # for each simulation we will generate a family then check in all the simulations \n",
    "    # how many had a single child that was male\n",
    "\n",
    "    for _ in range(simulations):\n",
    "    # Generate a number between 0 and 1 with 50/50, this will be a variable for boy or girl\n",
    "    # Then we will roll a number between 1 and 3 with prob 1/3 to see how many children they have\n",
    "        nr_children = random.randint(1,3)\n",
    "        children = []\n",
    "\n",
    "        for _ in range(nr_children):\n",
    "            boy_girl = random.randint(0,1)\n",
    "            children.append(boy_girl)\n",
    "\n",
    "        if children.count(1) == 1: # the children list could be 1-3 wide but we are only interested in the times that there is only 1 boy so \"joe\", [1,0,0] [0,1] [1]...\n",
    "            joe_only_sisters += 1\n",
    "\n",
    "            if nr_children == 1: # this is where joe is an only child\n",
    "                only_joe += 1 \n",
    "\n",
    "    # So out of all the possbile times joe has siblings how many times is he an only child\n",
    "    if joe_only_sisters > 0:\n",
    "        p = only_joe/joe_only_sisters\n",
    "\n",
    "    return p\n",
    "\n",
    "simulations = 10000\n",
    "\n",
    "p = joe(simulations)\n",
    "print(f\"Joe is an only child {p:.4%} of the time\")\n"
   ]
  },
  {
   "cell_type": "code",
   "execution_count": null,
   "id": "c91efea4",
   "metadata": {},
   "outputs": [
    {
     "name": "stdout",
     "output_type": "stream",
     "text": [
      "   Simulations P(Only Joe)\n",
      "0           10    42.8571%\n",
      "1           50    35.2941%\n",
      "2          100    31.8182%\n",
      "3         1000    32.0455%\n",
      "4        10000    36.7347%\n",
      "5        50000    36.6616%\n",
      "6       100000    36.3622%\n",
      "7      1000000    36.3769%\n"
     ]
    }
   ],
   "source": [
    "# Dæmi 1 (a bit extra)\n",
    "sims = [10, 50, 100, 1000, 10000, 50000, 100000, 1000000]\n",
    "\n",
    "results = []\n",
    "for sim in sims:\n",
    "    percentage = joe(sim)\n",
    "    results.append((sim, f\"{percentage:.4%}\"))\n",
    "\n",
    "df = pd.DataFrame(results, columns=[\"Simulations\",\"P(Only Joe)\"])\n",
    "print(df)\n",
    "    "
   ]
  },
  {
   "cell_type": "code",
   "execution_count": 14,
   "id": "126fc732",
   "metadata": {},
   "outputs": [
    {
     "name": "stdout",
     "output_type": "stream",
     "text": [
      "At least one student will solve the problem 69.6600% of the time\n"
     ]
    }
   ],
   "source": [
    "# Dæmi 3\n",
    "\n",
    "# So we will have three students and for each of them we will generate a number between 1 and 3, if they get 1 they solved the problem otherwise they did not\n",
    "\n",
    "def bin_test(simulations, students = 3):\n",
    "    correct_count = 0\n",
    "    for _ in range(simulations):\n",
    "\n",
    "        for _ in range(students):\n",
    "\n",
    "            answer = random.randint(1,3)\n",
    "\n",
    "            if answer == 1:\n",
    "                correct_count += 1\n",
    "                break\n",
    "    \n",
    "    p = correct_count / simulations\n",
    "    return p\n",
    "\n",
    "simulation = 10000\n",
    "percentage = bin_test(simulation)\n",
    "print(f\"At least one student will solve the problem {percentage:.4%} of the time\")"
   ]
  },
  {
   "cell_type": "code",
   "execution_count": 17,
   "id": "28891bad",
   "metadata": {},
   "outputs": [
    {
     "name": "stdout",
     "output_type": "stream",
     "text": [
      "   Simulations P(Solved)\n",
      "0           10  60.0000%\n",
      "1           50  60.0000%\n",
      "2          100  73.0000%\n",
      "3         1000  71.3000%\n",
      "4        10000  69.9900%\n",
      "5        50000  70.0600%\n",
      "6       100000  70.3350%\n",
      "7      1000000  70.2936%\n",
      "8      5000000  70.3763%\n"
     ]
    }
   ],
   "source": [
    "# Dæmi 3 (a bit extra)\n",
    "sims = [10, 50, 100, 1000, 10000, 50000, 100000, 1000000, 5000000]\n",
    "\n",
    "results = []\n",
    "for sim in sims:\n",
    "    percentage = bin_test(sim)\n",
    "    results.append((sim, f\"{percentage:.4%}\"))\n",
    "\n",
    "df = pd.DataFrame(results, columns=[\"Simulations\",\"P(Solved)\"])\n",
    "print(df)\n",
    "    "
   ]
  },
  {
   "cell_type": "code",
   "execution_count": 57,
   "id": "c375a5a3",
   "metadata": {},
   "outputs": [
    {
     "name": "stdout",
     "output_type": "stream",
     "text": [
      "A) They need to have 3.2143812874770803 children to have a larger than 75% chance to get two boys\n"
     ]
    }
   ],
   "source": [
    "# Dæmi 4\n",
    "\n",
    "def children_monte(simulations, max_children = 100):\n",
    "    # We will generate a random number from 0-1 0, for male, 1 for female\n",
    "    #\n",
    "    simulation_results = []\n",
    "    for _ in range(simulations):\n",
    "       total_children = 0\n",
    "       male_children = 0\n",
    "       # adding the max children to make sure to stop the simulation if we exceed too large a number of children to limit runtime\n",
    "       while total_children < max_children:   \n",
    "        child = random.randint(0,1)\n",
    "        total_children += 1\n",
    "        \n",
    "        if child == 0:\n",
    "           male_children += 1\n",
    "        \n",
    "        if male_children >= 2 and ((male_children / total_children) >= 0.75):\n",
    "           simulation_results.append(total_children)\n",
    "           break\n",
    "    \n",
    "    num = sum(simulation_results) / len(simulation_results)\n",
    "    return num\n",
    "     \n",
    "\n",
    "simulations = 100000\n",
    "\n",
    "num = children_monte(simulations)\n",
    "print(f\"A) They need to have {num} children to have a larger than 75% chance to get two boys\")"
   ]
  },
  {
   "cell_type": "code",
   "execution_count": null,
   "id": "d9f83518",
   "metadata": {},
   "outputs": [
    {
     "name": "stdout",
     "output_type": "stream",
     "text": [
      "A\n",
      "   Simulations  Nr of children\n",
      "0           10        3.500000\n",
      "1           50        3.520000\n",
      "2          100        2.888889\n",
      "3         1000        3.121140\n",
      "4        10000        3.196179\n",
      "5        50000        3.196301\n",
      "6       100000        3.221754\n",
      "7       500000        3.228079\n"
     ]
    }
   ],
   "source": [
    "# Dæmi 4 (a bit extra)\n",
    "sims = [10, 50, 100, 1000, 10000, 50000, 100000, 500000]\n",
    "\n",
    "results = []\n",
    "for sim in sims:\n",
    "    num = children_monte(sim)\n",
    "    results.append((sim, num))\n",
    "\n",
    "df = pd.DataFrame(results, columns=[\"Simulations\",\"Nr of children\"])\n",
    "print(\"A\")\n",
    "print(df)"
   ]
  },
  {
   "cell_type": "code",
   "execution_count": 79,
   "id": "d8f02152",
   "metadata": {},
   "outputs": [
    {
     "name": "stdout",
     "output_type": "stream",
     "text": [
      "B) You need to roll the die 6.00094 times to get atleast one 6 90% of the time\n"
     ]
    }
   ],
   "source": [
    "def roll_dice_monte(simulations, max_rolls = 200):\n",
    "    simulation_results = []\n",
    "    for _ in range(simulations):\n",
    "            total_rolls = 0\n",
    "            found_six = False\n",
    "\n",
    "            while total_rolls < max_rolls:\n",
    "                roll = random.randint(1, 6)\n",
    "                total_rolls += 1\n",
    "\n",
    "                if roll == 6:\n",
    "                    found_six = True\n",
    "                    break \n",
    "\n",
    "            if found_six:\n",
    "                simulation_results.append(total_rolls)\n",
    "            else:\n",
    "                simulation_results.append(max_rolls)\n",
    "\n",
    "    average_rolls = sum(simulation_results) / len(simulation_results)\n",
    "    return average_rolls\n",
    "\n",
    "simulations = 100000\n",
    "\n",
    "num_rolls = roll_dice_monte(simulations)\n",
    "print(f\"B) You need to roll the die {num_rolls} times to get atleast one 6 90% of the time\")"
   ]
  },
  {
   "cell_type": "code",
   "execution_count": 78,
   "id": "c351b8ad",
   "metadata": {},
   "outputs": [
    {
     "name": "stdout",
     "output_type": "stream",
     "text": [
      "B\n",
      "   Simulations  Nr of rolls\n",
      "0           10     2.200000\n",
      "1           50     5.060000\n",
      "2          100     6.210000\n",
      "3         1000     5.887000\n",
      "4        10000     5.905200\n",
      "5        50000     5.992720\n",
      "6       100000     6.011280\n",
      "7       500000     6.004634\n"
     ]
    }
   ],
   "source": [
    "# Dæmi 4 (a bit extra)\n",
    "sims = [10, 50, 100, 1000, 10000, 50000, 100000, 500000]\n",
    "\n",
    "results = []\n",
    "for sim in sims:\n",
    "    num = roll_dice_monte(sim)\n",
    "    results.append((sim, num))\n",
    "\n",
    "df = pd.DataFrame(results, columns=[\"Simulations\",\"Nr of rolls\"])\n",
    "print(\"B\")\n",
    "print(df)"
   ]
  }
 ],
 "metadata": {
  "kernelspec": {
   "display_name": "env",
   "language": "python",
   "name": "python3"
  },
  "language_info": {
   "codemirror_mode": {
    "name": "ipython",
    "version": 3
   },
   "file_extension": ".py",
   "mimetype": "text/x-python",
   "name": "python",
   "nbconvert_exporter": "python",
   "pygments_lexer": "ipython3",
   "version": "3.12.10"
  }
 },
 "nbformat": 4,
 "nbformat_minor": 5
}
