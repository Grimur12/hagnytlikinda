{
 "cells": [
  {
   "cell_type": "code",
   "execution_count": null,
   "id": "b3f98409",
   "metadata": {},
   "outputs": [],
   "source": [
    "# Dæmi 1 \n",
    "# Families can have 1,2,3 children, each with prob 1/3. Joe\n",
    "# has no brothers ( could have sisters) what is the prob he is an only child\n"
   ]
  },
  {
   "cell_type": "code",
   "execution_count": null,
   "id": "5b863f27",
   "metadata": {},
   "outputs": [
    {
     "ename": "NameError",
     "evalue": "name 'child' is not defined",
     "output_type": "error",
     "traceback": [
      "\u001b[31m---------------------------------------------------------------------------\u001b[39m",
      "\u001b[31mNameError\u001b[39m                                 Traceback (most recent call last)",
      "\u001b[36mCell\u001b[39m\u001b[36m \u001b[39m\u001b[32mIn[4]\u001b[39m\u001b[32m, line 19\u001b[39m\n\u001b[32m     16\u001b[39m     result.append(children)\n\u001b[32m     18\u001b[39m \u001b[38;5;28;01mif\u001b[39;00m \u001b[38;5;28many\u001b[39m(\u001b[38;5;28mlen\u001b[39m(child) == \u001b[32m1\u001b[39m \u001b[38;5;28;01mfor\u001b[39;00m child \u001b[38;5;129;01min\u001b[39;00m result):\n\u001b[32m---> \u001b[39m\u001b[32m19\u001b[39m     \u001b[38;5;28mprint\u001b[39m(\u001b[43mchild\u001b[49m)\n",
      "\u001b[31mNameError\u001b[39m: name 'child' is not defined"
     ]
    }
   ],
   "source": [
    "import random\n",
    "\n",
    "simulations = 10000\n",
    "# for each simulation we will generate a family then check in all the simulations \n",
    "# how many had a single child that was male\n",
    "\n",
    "result = []\n",
    "for _ in range(simulations):\n",
    "# Generate a number between 0 and 1 with 50/50, this will be an index for boy or girl\n",
    "# Then we will roll a number between 1 and 3 with prob 1/3 to see how many children they have\n",
    "    nr_children = random.randint(1,3)\n",
    "    children = []\n",
    "    for _ in range(nr_children):\n",
    "        boy_girl = random.randint(0,1)\n",
    "        children.append(boy_girl)\n",
    "    result.append(children)\n",
    "\n",
    "family_correct = 0\n",
    "# We need to find the amount of samples that had sisters\n",
    "for child in result:\n",
    "    if len(child) == 1:\n",
    "        if child[0] == 0:\n",
    "\n",
    "    if len(child) == 2:\n",
    "        if not (any(child[i] == 0 for i in child)):\n",
    "            # So everyone is a woman\n",
    "# What is the probability that joe is an only child given that he has no brothers\n",
    "# so out of all the groups that have sisters \n"
   ]
  }
 ],
 "metadata": {
  "kernelspec": {
   "display_name": "env (3.12.10)",
   "language": "python",
   "name": "python3"
  },
  "language_info": {
   "codemirror_mode": {
    "name": "ipython",
    "version": 3
   },
   "file_extension": ".py",
   "mimetype": "text/x-python",
   "name": "python",
   "nbconvert_exporter": "python",
   "pygments_lexer": "ipython3",
   "version": "3.12.10"
  }
 },
 "nbformat": 4,
 "nbformat_minor": 5
}
